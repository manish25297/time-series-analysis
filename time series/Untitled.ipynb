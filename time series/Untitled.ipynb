{
 "cells": [
  {
   "cell_type": "code",
   "execution_count": 88,
   "metadata": {},
   "outputs": [],
   "source": [
    "import pandas as pd\n",
    "import numpy as np\n",
    "import matplotlib.pylab as plt\n",
    "%matplotlib inline\n",
    "from matplotlib.pylab import rcParams\n",
    "rcParams['figure.figsize'] = 15, 6"
   ]
  },
  {
   "cell_type": "code",
   "execution_count": 125,
   "metadata": {},
   "outputs": [
    {
     "name": "stdout",
     "output_type": "stream",
     "text": [
      "         Date Open Price High Price Low Price Close Price\n",
      "0  30-12-2016   2,354.90   2,378.60  2,345.65    2,365.55\n",
      "1  29-12-2016   2,303.00   2,359.90  2,303.00    2,351.70\n",
      "2  28-12-2016   2,326.70   2,349.90  2,303.15    2,313.40\n",
      "3  27-12-2016   2,281.50   2,330.00  2,281.50    2,323.40\n",
      "4  26-12-2016   2,266.00   2,301.60  2,266.00    2,293.10\n"
     ]
    }
   ],
   "source": [
    "#data = pd.read_excel('oclhv.xlsx',skiprows=2,header=None)\n",
    "data = pd.read_excel('oclhv.xlsx',skiprows=2)\n",
    "print data.head()\n",
    "a=pd.DataFrame(data)\n"
   ]
  },
  {
   "cell_type": "code",
   "execution_count": 126,
   "metadata": {},
   "outputs": [
    {
     "name": "stdout",
     "output_type": "stream",
     "text": [
      "         Date Open Price High Price Low Price Close Price\n",
      "0  30-12-2016   2,354.90   2,378.60  2,345.65    2,365.55\n",
      "1  29-12-2016   2,303.00   2,359.90  2,303.00    2,351.70\n",
      "2  28-12-2016   2,326.70   2,349.90  2,303.15    2,313.40\n",
      "3  27-12-2016   2,281.50   2,330.00  2,281.50    2,323.40\n",
      "4  26-12-2016   2,266.00   2,301.60  2,266.00    2,293.10\n",
      "\n",
      " Data Types:\n",
      "Date           object\n",
      "Open Price     object\n",
      "High Price     object\n",
      "Low Price      object\n",
      "Close Price    object\n",
      "dtype: object\n"
     ]
    }
   ],
   "source": [
    "#data.columns = ['date','open','high','low','close']\n",
    "\n",
    "print data.head()\n",
    "print '\\n Data Types:'\n",
    "print data.dtypes\n",
    "\n",
    "#data.set_index('date')"
   ]
  },
  {
   "cell_type": "code",
   "execution_count": 127,
   "metadata": {},
   "outputs": [
    {
     "name": "stdout",
     "output_type": "stream",
     "text": [
      "Date           30-12-2016\n",
      "Open Price       2,354.90\n",
      "High Price       2,378.60\n",
      "Low Price        2,345.65\n",
      "Close Price      2,365.55\n",
      "Name: 0, dtype: object\n"
     ]
    }
   ],
   "source": [
    " print data.loc[0]\n"
   ]
  },
  {
   "cell_type": "code",
   "execution_count": 128,
   "metadata": {},
   "outputs": [
    {
     "name": "stdout",
     "output_type": "stream",
     "text": [
      "Date           30-12-2016\n",
      "Open Price       2,354.90\n",
      "High Price       2,378.60\n",
      "Low Price        2,345.65\n",
      "Close Price      2,365.55\n",
      "Name: 0, dtype: object\n"
     ]
    }
   ],
   "source": [
    "print data.iloc[0]"
   ]
  },
  {
   "cell_type": "code",
   "execution_count": 129,
   "metadata": {},
   "outputs": [
    {
     "data": {
      "text/plain": [
       "0    30-12-2016\n",
       "1    29-12-2016\n",
       "2    28-12-2016\n",
       "3    27-12-2016\n",
       "4    26-12-2016\n",
       "5    23-12-2016\n",
       "6    22-12-2016\n",
       "7    21-12-2016\n",
       "8    20-12-2016\n",
       "9    19-12-2016\n",
       "Name: Date, dtype: object"
      ]
     },
     "execution_count": 129,
     "metadata": {},
     "output_type": "execute_result"
    }
   ],
   "source": [
    "ts=data['Date']\n",
    "ts.head(10)"
   ]
  },
  {
   "cell_type": "code",
   "execution_count": 134,
   "metadata": {},
   "outputs": [
    {
     "ename": "NameError",
     "evalue": "name 'parse_dates' is not defined",
     "output_type": "error",
     "traceback": [
      "\u001b[1;31m---------------------------------------------------------------------------\u001b[0m",
      "\u001b[1;31mNameError\u001b[0m                                 Traceback (most recent call last)",
      "\u001b[1;32m<ipython-input-134-83c01e3b43df>\u001b[0m in \u001b[0;36m<module>\u001b[1;34m()\u001b[0m\n\u001b[0;32m      2\u001b[0m \u001b[0mdata\u001b[0m\u001b[1;33m=\u001b[0m \u001b[0mpd\u001b[0m\u001b[1;33m.\u001b[0m\u001b[0mread_excel\u001b[0m\u001b[1;33m(\u001b[0m\u001b[1;34m'oclhv.xlsx'\u001b[0m\u001b[1;33m,\u001b[0m\u001b[0mindex_cols\u001b[0m\u001b[1;33m=\u001b[0m\u001b[1;34m'Date'\u001b[0m\u001b[1;33m,\u001b[0m\u001b[0mskiprows\u001b[0m\u001b[1;33m=\u001b[0m\u001b[1;36m2\u001b[0m\u001b[1;33m)\u001b[0m\u001b[1;33m\u001b[0m\u001b[0m\n\u001b[0;32m      3\u001b[0m \u001b[0mdateparse\u001b[0m \u001b[1;33m=\u001b[0m \u001b[1;32mlambda\u001b[0m \u001b[0mdates\u001b[0m\u001b[1;33m:\u001b[0m \u001b[0mpd\u001b[0m\u001b[1;33m.\u001b[0m\u001b[0mdatetime\u001b[0m\u001b[1;33m.\u001b[0m\u001b[0mstrptime\u001b[0m\u001b[1;33m(\u001b[0m\u001b[0mdates\u001b[0m\u001b[1;33m,\u001b[0m \u001b[1;34m'%d-%m-%Y'\u001b[0m\u001b[1;33m)\u001b[0m\u001b[1;33m\u001b[0m\u001b[0m\n\u001b[1;32m----> 4\u001b[1;33m \u001b[0md\u001b[0m\u001b[1;33m=\u001b[0m \u001b[0mpd\u001b[0m\u001b[1;33m.\u001b[0m\u001b[0mDataFrame\u001b[0m\u001b[1;33m(\u001b[0m\u001b[0mdata\u001b[0m\u001b[1;33m,\u001b[0m\u001b[0mparse_dates\u001b[0m\u001b[1;33m[\u001b[0m\u001b[1;34m'Dates'\u001b[0m\u001b[1;33m]\u001b[0m\u001b[1;33m,\u001b[0m\u001b[0mdate_parser\u001b[0m\u001b[1;33m=\u001b[0m\u001b[0mdateparse\u001b[0m\u001b[1;33m)\u001b[0m\u001b[1;33m\u001b[0m\u001b[0m\n\u001b[0m\u001b[0;32m      5\u001b[0m \u001b[0md\u001b[0m\u001b[1;33m.\u001b[0m\u001b[0mhead\u001b[0m\u001b[1;33m(\u001b[0m\u001b[1;33m)\u001b[0m\u001b[1;33m\u001b[0m\u001b[0m\n\u001b[0;32m      6\u001b[0m \u001b[1;33m\u001b[0m\u001b[0m\n",
      "\u001b[1;31mNameError\u001b[0m: name 'parse_dates' is not defined"
     ]
    }
   ],
   "source": [
    "dateparse = lambda dates: pd.datetime.strptime(dates, '%d-%m-%Y')\n",
    "data= pd.read_excel('oclhv.xlsx',index_cols='Date',skiprows=2)\n",
    "dateparse = lambda dates: pd.datetime.strptime(dates, '%d-%m-%Y')\n",
    "d= pd.DataFrame(data,parse_dates['Dates'],date_parser=dateparse)\n",
    "d.head()\n",
    "\n"
   ]
  },
  {
   "cell_type": "code",
   "execution_count": null,
   "metadata": {},
   "outputs": [],
   "source": []
  },
  {
   "cell_type": "code",
   "execution_count": null,
   "metadata": {},
   "outputs": [],
   "source": []
  }
 ],
 "metadata": {
  "kernelspec": {
   "display_name": "Python 2",
   "language": "python",
   "name": "python2"
  },
  "language_info": {
   "codemirror_mode": {
    "name": "ipython",
    "version": 2
   },
   "file_extension": ".py",
   "mimetype": "text/x-python",
   "name": "python",
   "nbconvert_exporter": "python",
   "pygments_lexer": "ipython2",
   "version": "2.7.14"
  }
 },
 "nbformat": 4,
 "nbformat_minor": 2
}
